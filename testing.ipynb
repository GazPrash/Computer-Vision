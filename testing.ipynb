{
 "cells": [
  {
   "cell_type": "code",
   "execution_count": 16,
   "metadata": {},
   "outputs": [
    {
     "data": {
      "text/plain": [
       "<matplotlib.image.AxesImage at 0x299ef260280>"
      ]
     },
     "execution_count": 16,
     "metadata": {},
     "output_type": "execute_result"
    },
    {
     "data": {
      "image/png": "[encoded data removed]",
      "text/plain": [
       "<Figure size 432x288 with 1 Axes>"
      ]
     },
     "metadata": {
      "needs_background": "light"
     },
     "output_type": "display_data"
    }
   ],
   "source": [
    "import cv2\n",
    "import PIL\n",
    "import math\n",
    "import numpy as np\n",
    "import matplotlib.pyplot as plt\n",
    "\n",
    "GAUSSIAN_KERNEL_2D = lambda x, y, sigma_sqr : ((math.e) ** -(.5*((x**2 + y**2)/sigma_sqr)))/(2 * math.pi * sigma_sqr)\n",
    "\n",
    "def Convolution(image:np.ndarray, gfilter:np.ndarray):\n",
    "    pass\n",
    "\n",
    "\n",
    "def GaussianBlur(shape:tuple, variance:int = 4):\n",
    "    # shape should be col, row\n",
    "    # filter_size = 2 * int(4 * variance + 0.5) + 1\n",
    "    mask = np.zeros(shape, np.float32)\n",
    "    m = shape[1]//2\n",
    "    n = shape[0]//2\n",
    "\n",
    "    for rind in range(-m, m+1):\n",
    "        for cind in range(-n, n+1):\n",
    "            mask[cind + n, rind + m] = GAUSSIAN_KERNEL_2D(rind, cind, variance ** 2)\n",
    "\n",
    "    return mask\n",
    "\n",
    "\n",
    "path = \"images/smallimg1.png\"\n",
    "imgmat = cv2.imread(path)\n",
    "greymat = cv2.cvtColor(imgmat, cv2.COLOR_BGR2GRAY)\n",
    "\n",
    "\n",
    "blur = GaussianBlur((15, 15), 4)\n",
    "\n",
    "\n",
    "plt.imshow(blur)"
   ]
  },
  {
   "cell_type": "code",
   "execution_count": 12,
   "metadata": {},
   "outputs": [
    {
     "data": {
      "text/plain": [
       "(90, 120, 3)"
      ]
     },
     "execution_count": 12,
     "metadata": {},
     "output_type": "execute_result"
    }
   ],
   "source": [
    "imgmat.shape"
   ]
  }
 ],
 "metadata": {
  "kernelspec": {
   "display_name": "dtsci",
   "language": "python",
   "name": "python3"
  },
  "language_info": {
   "codemirror_mode": {
    "name": "ipython",
    "version": 3
   },
   "file_extension": ".py",
   "mimetype": "text/x-python",
   "name": "python",
   "nbconvert_exporter": "python",
   "pygments_lexer": "ipython3",
   "version": "3.9.6"
  },
  "orig_nbformat": 4
 },
 "nbformat": 4,
 "nbformat_minor": 2
}
